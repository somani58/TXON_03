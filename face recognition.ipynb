{
 "cells": [
  {
   "cell_type": "code",
   "execution_count": 2,
   "id": "59a67a9b",
   "metadata": {},
   "outputs": [],
   "source": [
    "import cv2\n",
    "import os\n",
    "from flask import Flask,request,render_template\n",
    "from datetime import date\n",
    "from datetime import datetime\n",
    "import numpy as np\n",
    "from sklearn.neighbors import KNeighborsClassifier\n",
    "import pandas as pd\n",
    "import joblib\n"
   ]
  },
  {
   "cell_type": "markdown",
   "id": "c2295e6a",
   "metadata": {},
   "source": [
    "# Defining Flask App\n"
   ]
  },
  {
   "cell_type": "code",
   "execution_count": 5,
   "id": "f98fffa6",
   "metadata": {},
   "outputs": [],
   "source": [
    "\n",
    "app = Flask(__name__)\n"
   ]
  },
  {
   "cell_type": "markdown",
   "id": "08d89d05",
   "metadata": {},
   "source": [
    "# Saving Date today in 2 different formats\n"
   ]
  },
  {
   "cell_type": "code",
   "execution_count": 6,
   "id": "6e50dfd1",
   "metadata": {},
   "outputs": [],
   "source": [
    "def datetoday():\n",
    "    return date.today().strftime(\"%m_%d_%y\")\n",
    "def datetoday2():\n",
    "    return date.today().strftime(\"%d-%B-%Y\")\n"
   ]
  },
  {
   "cell_type": "markdown",
   "id": "b5272082",
   "metadata": {},
   "source": [
    "# Initializing VideoCapture object to access WebCam\n"
   ]
  },
  {
   "cell_type": "code",
   "execution_count": 9,
   "id": "33350c56",
   "metadata": {},
   "outputs": [],
   "source": [
    "face_detector = cv2.CascadeClassifier('static/haarcascade_frontalface_default.xml')\n",
    "cap = cv2.VideoCapture(0)"
   ]
  },
  {
   "cell_type": "markdown",
   "id": "9e55d12a",
   "metadata": {},
   "source": [
    "# If these directories don't exist, create them\n"
   ]
  },
  {
   "cell_type": "code",
   "execution_count": 12,
   "id": "959979e2",
   "metadata": {},
   "outputs": [],
   "source": [
    "if not os.path.isdir('Attendance'):\n",
    "    os.makedirs('Attendance')\n",
    "if not os.path.isdir('static/faces'):\n",
    "    os.makedirs('static/faces')\n",
    "if f'Attendance-{datetoday()}.csv' not in os.listdir('Attendance'):\n",
    "    with open(f'Attendance/Attendance-{datetoday()}.csv','w') as f:\n",
    "        f.write('Name,Roll,Time')\n"
   ]
  },
  {
   "cell_type": "markdown",
   "id": "7ba4a41f",
   "metadata": {},
   "source": [
    "# get a number of total registered users and  extract the face from an image"
   ]
  },
  {
   "cell_type": "code",
   "execution_count": 13,
   "id": "9072c515",
   "metadata": {},
   "outputs": [],
   "source": [
    "def totalreg():\n",
    "    return len(os.listdir('static/faces'))\n",
    "def extract_faces(img):\n",
    "    gray = cv2.cvtColor(img, cv2.COLOR_BGR2GRAY)\n",
    "    face_points = face_detector.detectMultiScale(gray, 1.3, 5)\n",
    "    return face_points\n"
   ]
  },
  {
   "cell_type": "markdown",
   "id": "b1eff42d",
   "metadata": {},
   "source": [
    "# Identify face using ML model\n"
   ]
  },
  {
   "cell_type": "code",
   "execution_count": 14,
   "id": "64676fc6",
   "metadata": {},
   "outputs": [],
   "source": [
    "def identify_face(facearray):\n",
    "    model = joblib.load('static/face_recognition_model.pkl')\n",
    "    return model.predict(facearray)"
   ]
  },
  {
   "cell_type": "markdown",
   "id": "579067c4",
   "metadata": {},
   "source": [
    "# A function which trains the model on all the faces available in faces folder\n"
   ]
  },
  {
   "cell_type": "code",
   "execution_count": 15,
   "id": "5ded620f",
   "metadata": {},
   "outputs": [],
   "source": [
    "def train_model():\n",
    "    faces = []\n",
    "    labels = []\n",
    "    userlist = os.listdir('static/faces')\n",
    "    for user in userlist:\n",
    "        for imgname in os.listdir(f'static/faces/{user}'):\n",
    "            img = cv2.imread(f'static/faces/{user}/{imgname}')\n",
    "            resized_face = cv2.resize(img, (50, 50))\n",
    "            faces.append(resized_face.ravel())\n",
    "            labels.append(user)\n",
    "    faces = np.array(faces)\n",
    "    knn = KNeighborsClassifier(n_neighbors=5)\n",
    "    knn.fit(faces,labels)\n",
    "    joblib.dump(knn,'static/face_recognition_model.pkl')"
   ]
  },
  {
   "cell_type": "markdown",
   "id": "bc63a4a8",
   "metadata": {},
   "source": [
    "# Extract info from today's attendance file in attendance folder\n"
   ]
  },
  {
   "cell_type": "code",
   "execution_count": 16,
   "id": "acbe77ea",
   "metadata": {},
   "outputs": [],
   "source": [
    "def extract_attendance():\n",
    "    df = pd.read_csv(f'Attendance/Attendance-{datetoday()}.csv')\n",
    "    names = df['Name']\n",
    "    rolls = df['Roll']\n",
    "    times = df['Time']\n",
    "    l = len(df)\n",
    "    return names,rolls,times,l"
   ]
  },
  {
   "cell_type": "markdown",
   "id": "c3a8d068",
   "metadata": {},
   "source": [
    "# Add Attendance of a specific user\n"
   ]
  },
  {
   "cell_type": "code",
   "execution_count": 17,
   "id": "ce48e8f7",
   "metadata": {},
   "outputs": [],
   "source": [
    "def add_attendance(name):\n",
    "    username = name.split('_')[0]\n",
    "    userid = name.split('_')[1]\n",
    "    current_time = datetime.now().strftime(\"%H:%M:%S\")\n",
    "    \n",
    "    df = pd.read_csv(f'Attendance/Attendance-{datetoday()}.csv')\n",
    "    if int(userid) not in list(df['Roll']):\n",
    "        with open(f'Attendance/Attendance-{datetoday()}.csv','a') as f:\n",
    "            f.write(f'\\n{username},{userid},{current_time}')"
   ]
  },
  {
   "cell_type": "markdown",
   "id": "461d364a",
   "metadata": {},
   "source": [
    "# main app"
   ]
  },
  {
   "cell_type": "code",
   "execution_count": null,
   "id": "2d25eef3",
   "metadata": {},
   "outputs": [],
   "source": [
    "@app.route('/')\n",
    "def home():\n",
    "    names,rolls,times,l = extract_attendance()    \n",
    "    return render_template('home.html',names=names,rolls=rolls,times=times,l=l,totalreg=totalreg(),datetoday2=datetoday2()) \n",
    "#### This function will run when we click on Take Attendance Button\n",
    "@app.route('/start',methods=['GET'])\n",
    "def start():\n",
    "    if 'face_recognition_model.pkl' not in os.listdir('static'):\n",
    "        return render_template('home.html',totalreg=totalreg(),datetoday2=datetoday2(),mess='There is no trained model in the static folder. Please add a new face to continue.') \n",
    "    cap = cv2.VideoCapture(0)\n",
    "    ret = True\n",
    "    while ret:\n",
    "        ret,frame = cap.read()\n",
    "        if extract_faces(frame)!=():\n",
    "            (x,y,w,h) = extract_faces(frame)[0]\n",
    "            cv2.rectangle(frame,(x, y), (x+w, y+h), (255, 0, 20), 2)\n",
    "            face = cv2.resize(frame[y:y+h,x:x+w], (50, 50))\n",
    "            identified_person = identify_face(face.reshape(1,-1))[0]\n",
    "            add_attendance(identified_person)\n",
    "            cv2.putText(frame,f'{identified_person}',(30,30),cv2.FONT_HERSHEY_SIMPLEX,1,(255, 0, 20),2,cv2.LINE_AA)\n",
    "        cv2.imshow('Attendance',frame)\n",
    "        if cv2.waitKey(1)==27:\n",
    "            break\n",
    "    cap.release()\n",
    "    cv2.destroyAllWindows()\n",
    "    names,rolls,times,l = extract_attendance()    \n",
    "    return render_template('home.html',names=names,rolls=rolls,times=times,l=l,totalreg=totalreg(),datetoday2=datetoday2()) \n",
    "@app.route('/add',methods=['GET','POST'])\n",
    "def add():\n",
    "    newusername = request.form['newusername']\n",
    "    newuserid = request.form['newuserid']\n",
    "    userimagefolder = 'static/faces/'+newusername+'_'+str(newuserid)\n",
    "    if not os.path.isdir(userimagefolder):\n",
    "        os.makedirs(userimagefolder)\n",
    "    cap = cv2.VideoCapture(0)\n",
    "    i,j = 0,0\n",
    "    while 1:\n",
    "        _,frame = cap.read()\n",
    "        faces = extract_faces(frame)\n",
    "        for (x,y,w,h) in faces:\n",
    "            cv2.rectangle(frame,(x, y), (x+w, y+h), (255, 0, 20), 2)\n",
    "            cv2.putText(frame,f'Images Captured: {i}/50',(30,30),cv2.FONT_HERSHEY_SIMPLEX,1,(255, 0, 20),2,cv2.LINE_AA)\n",
    "            if j%10==0:\n",
    "                name = newusername+'_'+str(i)+'.jpg'\n",
    "                cv2.imwrite(userimagefolder+'/'+name,frame[y:y+h,x:x+w])\n",
    "                i+=1\n",
    "            j+=1\n",
    "        if j==500:\n",
    "            break\n",
    "        cv2.imshow('Adding new User',frame)\n",
    "        if cv2.waitKey(1)==27:\n",
    "            break\n",
    "    cap.release()\n",
    "    cv2.destroyAllWindows()\n",
    "    print('Training Model')\n",
    "    train_model()\n",
    "    names,rolls,times,l = extract_attendance()    \n",
    "    return render_template('home.html',names=names,rolls=rolls,times=times,l=l,totalreg=totalreg(),datetoday2=datetoday2()) \n",
    "#### Our main function which runs the Flask App\n",
    "if __name__ == '__main__':\n",
    "    app.run(debug=True)"
   ]
  },
  {
   "cell_type": "code",
   "execution_count": null,
   "id": "e0cc2ed2",
   "metadata": {},
   "outputs": [],
   "source": []
  },
  {
   "cell_type": "code",
   "execution_count": null,
   "id": "649cb93a",
   "metadata": {},
   "outputs": [],
   "source": []
  }
 ],
 "metadata": {
  "kernelspec": {
   "display_name": "Python 3 (ipykernel)",
   "language": "python",
   "name": "python3"
  },
  "language_info": {
   "codemirror_mode": {
    "name": "ipython",
    "version": 3
   },
   "file_extension": ".py",
   "mimetype": "text/x-python",
   "name": "python",
   "nbconvert_exporter": "python",
   "pygments_lexer": "ipython3",
   "version": "3.9.12"
  }
 },
 "nbformat": 4,
 "nbformat_minor": 5
}
